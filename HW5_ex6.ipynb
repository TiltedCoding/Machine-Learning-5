{
 "cells": [
  {
   "cell_type": "code",
   "execution_count": 2,
   "outputs": [],
   "source": [
    "import numpy as np\n",
    "import matplotlib.pyplot as plt"
   ],
   "metadata": {
    "collapsed": false,
    "pycharm": {
     "name": "#%%\n"
    }
   }
  },
  {
   "cell_type": "code",
   "execution_count": 7,
   "outputs": [
    {
     "data": {
      "text/plain": "array([[ 6.44720989e-01,  9.53424102e-02],\n       [ 6.10655333e-01,  1.20929675e-01],\n       [ 5.16743564e-01,  6.59358458e-01],\n       [ 8.23717938e-01,  5.39779640e-01],\n       [ 7.50474168e-01,  6.24892698e-01],\n       [ 3.36669730e-01,  4.49397531e-01],\n       [-1.19416056e-02,  2.03902940e-01],\n       [ 7.66770818e-01,  1.58661351e-01],\n       [ 1.09558096e+00,  4.01148249e-01],\n       [ 5.43287992e-01,  6.22906949e-02],\n       [ 7.44716470e-01,  5.48623609e-01],\n       [ 6.53221233e-01,  6.32997320e-01],\n       [ 5.63423113e-01,  2.57507895e-01],\n       [ 3.78425879e-01,  1.67765421e-01],\n       [ 8.99218350e-01,  3.06630015e-01],\n       [ 2.33122890e-01,  5.67450912e-01],\n       [ 3.74782454e-01,  1.12062945e-01],\n       [ 7.53335403e-01,  2.46789102e-01],\n       [ 6.85519745e-01,  3.09202924e-01],\n       [ 4.47808690e-01,  6.44115561e-01],\n       [ 5.56848089e-01,  4.94569516e-01],\n       [ 4.92995353e-01,  5.98255198e-01],\n       [ 2.41037959e-01,  9.55919443e-02],\n       [ 5.72296730e-01,  4.07614497e-01],\n       [ 1.46153591e-01,  3.94761679e-02],\n       [ 6.42233582e-01,  2.69715866e-01],\n       [ 7.23836217e-01,  3.13137387e-01],\n       [ 8.78687707e-01,  1.53031255e-01],\n       [ 5.60070094e-01,  6.76512136e-01],\n       [ 8.25228288e-01,  2.94924063e-01],\n       [ 3.66611865e-01,  3.25662159e-01],\n       [ 6.64236543e-01,  8.69182207e-01],\n       [ 7.40916455e-01,  7.04292251e-02],\n       [ 9.89309662e-01,  2.64925132e-02],\n       [ 7.42349528e-01,  3.77494868e-01],\n       [ 1.51439978e-01,  5.24756529e-01],\n       [ 8.85202350e-01,  8.75108491e-01],\n       [ 7.61121684e-01,  5.85734474e-01],\n       [ 2.71975805e-02,  2.06089729e-01],\n       [ 6.81334963e-01,  5.08508236e-01],\n       [ 1.64196610e-01,  1.26284360e-01],\n       [ 3.31948765e-01,  2.16123856e-01],\n       [ 1.75868953e-01,  1.61630573e-01],\n       [ 9.09397479e-01,  3.12582550e-01],\n       [ 7.37668330e-01,  9.11123081e-01],\n       [ 5.26940702e-01,  4.12417139e-01],\n       [ 9.93209986e-01,  2.48648843e-01],\n       [ 1.05967373e+00,  2.51205114e-01],\n       [ 1.70663437e-01,  5.55582964e-01],\n       [ 9.51179057e-01,  1.42206871e-01],\n       [ 8.87436773e-01,  8.76701044e-01],\n       [ 6.78076419e-01,  5.73874449e-01],\n       [ 6.43897350e-01,  2.98587129e-01],\n       [ 3.80131314e-01,  6.25928171e-01],\n       [ 3.02689455e-01,  6.88484150e-02],\n       [ 7.82905645e-01,  7.93537941e-01],\n       [ 4.87746897e-01,  2.03495344e-01],\n       [ 7.22625852e-01,  8.10068031e-01],\n       [ 7.52745084e-01,  5.79354148e-01],\n       [ 4.17086793e-01,  1.03623139e-01],\n       [ 7.51952028e-01,  9.22899625e-01],\n       [ 2.93051532e-01,  4.14739031e-01],\n       [ 2.13007393e-01,  2.34668504e-02],\n       [ 1.02439038e+00,  7.30117946e-01],\n       [ 2.25861782e-01,  3.68978558e-02],\n       [ 7.69923749e-01,  2.70509406e-01],\n       [ 5.40849259e-01,  5.57870862e-01],\n       [ 6.75778826e-01,  4.15037336e-01],\n       [ 5.83789150e-01,  5.89701299e-01],\n       [ 9.56613029e-01,  5.78407926e-01],\n       [ 3.56435212e-01,  2.34595872e-01],\n       [ 7.27376759e-01,  7.88342492e-01],\n       [ 7.62152627e-01,  8.25225446e-01],\n       [ 7.25449409e-01,  9.18917444e-01],\n       [ 8.31801517e-01,  7.64005384e-01],\n       [ 7.36707028e-01,  6.28259792e-01],\n       [ 2.34545916e-01,  1.26103768e-01],\n       [ 7.96557063e-01,  1.16381885e-01],\n       [ 1.71701746e-01,  6.01148443e-02],\n       [ 8.00882633e-01,  2.92562974e-01],\n       [ 4.16227989e-01,  2.00636422e-01],\n       [ 7.56107582e-01,  4.95096539e-01],\n       [ 9.69322859e-01,  6.84862957e-01],\n       [ 7.57520037e-01,  3.37455022e-01],\n       [ 7.16985338e-02,  1.17875180e-01],\n       [-4.94667151e-02,  4.12549350e-01],\n       [ 1.07031948e+00,  2.11902033e-01],\n       [ 6.94082231e-01,  6.37001142e-04],\n       [ 8.57755392e-01,  2.24404871e-01],\n       [ 9.38113212e-01,  7.23989314e-02],\n       [ 8.81474102e-01,  8.60798480e-01],\n       [ 3.86818178e-01,  2.57665835e-02],\n       [ 1.00530428e+00,  7.56817528e-01],\n       [ 3.44201099e-01,  6.76783697e-01],\n       [ 5.66466086e-01,  6.04997040e-01],\n       [ 4.82508537e-01,  7.60371817e-01],\n       [ 2.06174037e-01,  9.44927622e-03],\n       [ 8.80492592e-01,  7.62046951e-01],\n       [ 1.01957056e+00,  3.46850227e-01],\n       [ 1.50036060e-01,  5.22559679e-01]])"
     },
     "execution_count": 7,
     "metadata": {},
     "output_type": "execute_result"
    }
   ],
   "source": [
    "# Generate data.\n",
    "x = []\n",
    "y = []\n",
    "i = 0\n",
    "# Use a while loop to make 100 data. Its iterator i, adds 1 each time our data is correct with the if statement. Correct data means that Y is greater than X**3. The while loop breaks on the 100th data pair.\n",
    "while i < 100:\n",
    "    X, Y = np.random.uniform(0, 1, 2)\n",
    "    if Y > (X**3):\n",
    "        Y= Y + np.random.normal(0, 0.1, 1) # Make sure to add noise.\n",
    "        x.append(X)\n",
    "        y.append(Y)\n",
    "        i+= 1 # Iterator inside the if statement to add one ONLY when we get correct data.\n",
    "z = np.column_stack((y,x))\n",
    "z"
   ],
   "metadata": {
    "collapsed": false,
    "pycharm": {
     "name": "#%%\n"
    }
   }
  },
  {
   "cell_type": "code",
   "execution_count": 8,
   "outputs": [
    {
     "data": {
      "text/plain": "array([0.60119004, 0.40471377])"
     },
     "execution_count": 8,
     "metadata": {},
     "output_type": "execute_result"
    }
   ],
   "source": [
    "# To find the mean μ, we find μx and μy and we make a 2x1 matrix.\n",
    "mx = sum(z[:,1])/len(z[:,1])\n",
    "my = sum(z[:,0])/len(z[:,0])\n",
    "m = np.stack((my, mx))\n",
    "m"
   ],
   "metadata": {
    "collapsed": false,
    "pycharm": {
     "name": "#%%\n"
    }
   }
  },
  {
   "cell_type": "code",
   "execution_count": 9,
   "outputs": [
    {
     "data": {
      "text/plain": "array([[0.07826477, 0.02219894],\n       [0.02219894, 0.07042112]])"
     },
     "execution_count": 9,
     "metadata": {},
     "output_type": "execute_result"
    }
   ],
   "source": [
    "# Find Σ as a 2x2 matrix where the right diagonal is the same (σyx), the first point is σy squared and the last point is σx squared.\n",
    "S = np.dot((m-z).T, m-z)/100\n",
    "S"
   ],
   "metadata": {
    "collapsed": false,
    "pycharm": {
     "name": "#%%\n"
    }
   }
  },
  {
   "cell_type": "code",
   "execution_count": 10,
   "outputs": [],
   "source": [
    "# (c)\n",
    "a = S[0][1]/(np.sqrt(S[0][0])*np.sqrt(S[1][1])) # Find a=σyx/σx*σy\n",
    "# Find σx and σy.\n",
    "sx = np.sqrt(S[1][1])\n",
    "sy = np.sqrt(S[0][0])"
   ],
   "metadata": {
    "collapsed": false,
    "pycharm": {
     "name": "#%%\n"
    }
   }
  },
  {
   "cell_type": "code",
   "execution_count": 11,
   "outputs": [],
   "source": [
    "# Find the y estimate using the correct equation which is: μy + α*(σy/σx)*(x - μx).\n",
    "ye = my + a*(sy/sx)*(z[:,1] - mx)\n",
    "# Compute the E[y|x] using the computations done in exercise 3.\n",
    "Eyx = 0.5*(z[:,1])**3 + 0.5"
   ],
   "metadata": {
    "collapsed": false,
    "pycharm": {
     "name": "#%%\n"
    }
   }
  },
  {
   "cell_type": "code",
   "execution_count": 12,
   "outputs": [
    {
     "name": "stdout",
     "output_type": "stream",
     "text": [
      "The estimate MSE is: 0.07126696858498147\n",
      "The optimal MSE is: 0.07319222478065321\n"
     ]
    }
   ],
   "source": [
    "# To find the MSEs.\n",
    "MSEe = np.mean(pow((ye - z[:,0]), 2))\n",
    "MSEopt = np.mean(pow((Eyx - z[:,0]), 2))\n",
    "print(f'The estimate MSE is: {MSEe}\\nThe optimal MSE is: {MSEopt}')"
   ],
   "metadata": {
    "collapsed": false,
    "pycharm": {
     "name": "#%%\n"
    }
   }
  },
  {
   "cell_type": "code",
   "execution_count": 13,
   "outputs": [
    {
     "data": {
      "text/plain": "<Figure size 432x288 with 1 Axes>",
      "image/png": "[encoded data removed]"
     },
     "metadata": {
      "needs_background": "light"
     },
     "output_type": "display_data"
    }
   ],
   "source": [
    "# Plotting the estimators.\n",
    "plt.scatter(z[:,1], ye, label='y estimate', c='blue')\n",
    "plt.scatter(z[:,1], Eyx, label='E[y|x]', c='orange')\n",
    "plt.xlabel('x')\n",
    "plt.ylabel('y')\n",
    "plt.legend()\n",
    "plt.show()"
   ],
   "metadata": {
    "collapsed": false,
    "pycharm": {
     "name": "#%%\n"
    }
   }
  },
  {
   "cell_type": "markdown",
   "source": [
    "The plotted lines seem to be correct, however using bigger noise for y the line for MSE estimate the line was plotted entirely wrong when σyx was negative due to the noise. The line depends heavily on the noise given to y."
   ],
   "metadata": {
    "collapsed": false,
    "pycharm": {
     "name": "#%% md\n"
    }
   }
  },
  {
   "cell_type": "code",
   "execution_count": 14,
   "outputs": [
    {
     "data": {
      "text/plain": "<Figure size 432x288 with 1 Axes>",
      "image/png": "[encoded data removed]"
     },
     "metadata": {
      "needs_background": "light"
     },
     "output_type": "display_data"
    }
   ],
   "source": [
    "# Plotting the data around the estimators.\n",
    "plt.scatter(z[:,1], ye, label='y estimate', c='blue')\n",
    "plt.scatter(z[:,1], Eyx, label='E[y|x]', c='orange')\n",
    "plt.scatter(z[:,1], z[:,0], label='Data x and y', c='red', alpha=0.5)\n",
    "plt.xlabel('x')\n",
    "plt.ylabel('y')\n",
    "plt.legend()\n",
    "plt.show()"
   ],
   "metadata": {
    "collapsed": false,
    "pycharm": {
     "name": "#%%\n"
    }
   }
  },
  {
   "cell_type": "markdown",
   "source": [
    "The data are not distributed around their mean. That was expected though since we used the uniform distribution. The data are scattered uniformally as expected. We also observe that the optimal MSE, E[y|x] is not a straight line since its computed using x^3."
   ],
   "metadata": {
    "collapsed": false,
    "pycharm": {
     "name": "#%% md\n"
    }
   }
  },
  {
   "cell_type": "markdown",
   "source": [],
   "metadata": {
    "collapsed": false,
    "pycharm": {
     "name": "#%% md\n"
    }
   }
  }
 ],
 "metadata": {
  "kernelspec": {
   "display_name": "Python 3",
   "language": "python",
   "name": "python3"
  },
  "language_info": {
   "codemirror_mode": {
    "name": "ipython",
    "version": 2
   },
   "file_extension": ".py",
   "mimetype": "text/x-python",
   "name": "python",
   "nbconvert_exporter": "python",
   "pygments_lexer": "ipython2",
   "version": "2.7.6"
  }
 },
 "nbformat": 4,
 "nbformat_minor": 0
}